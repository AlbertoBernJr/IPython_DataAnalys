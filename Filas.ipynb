{
 "cells": [
  {
   "cell_type": "code",
   "execution_count": null,
   "id": "eb7a4a46",
   "metadata": {},
   "outputs": [
    {
     "name": "stdout",
     "output_type": "stream",
     "text": [
      "[0, 3, 7, 9]\n"
     ]
    }
   ],
   "source": [
    "\"\"\"\n",
    "Aplicação comum: preparar dados para limpeza antes de inserir num DataFrame\n",
    "    Uso: Durante a extração de dados, você pode armazenar resultados intermediários, \n",
    "    como nomes de arquivos, colunas ou registros lidos de um CSV/JSON antes de \n",
    "    passá-los ao pandas.\n",
    "\"\"\"\n",
    "\n",
    "#Coletando dados brutos de uma API\n",
    "data= [None, 3, 7, 9]\n",
    "\n",
    "#Correção de dados incompletos\n",
    "data[0]=0 #substituir a posição 0 por zero\n",
    "print(data)\n"
   ]
  },
  {
   "cell_type": "code",
   "execution_count": null,
   "id": "389b85c3",
   "metadata": {},
   "outputs": [
    {
     "name": "stdout",
     "output_type": "stream",
     "text": [
      "['usuários', 'clientes', 'produtos', 'vendas']\n",
      "['usuários', 'clientes', 'vendas']\n"
     ]
    }
   ],
   "source": [
    "\"\"\"\n",
    "Aplicação comum: controle de etapas dentro de um data pipeline.\n",
    "    Em pipelines de ETL, é comum gerar listas dinâmicas de tarefas \n",
    "    (tabelas, partições ou arquivos a processar).\n",
    "\n",
    "\"\"\"\n",
    "\n",
    "tabelas=[\"clientes\", \"produtos\"]\n",
    "\n",
    "#adicionando mais uma planilha à lista de tabelas\n",
    "tabelas.append(\"vendas\")\n",
    "\n",
    "#adicionando outra tabela a lista, so que no inicio da lista\n",
    "tabelas.insert(0, \"usuários\")\n",
    "print(tabelas)\n",
    "\n",
    "#removendo um elemento da lista\n",
    "tabelas.remove(\"produtos\")\n",
    "print(tabelas)\n"
   ]
  },
  {
   "cell_type": "code",
   "execution_count": 7,
   "id": "ee4d21f6",
   "metadata": {},
   "outputs": [
    {
     "name": "stdout",
     "output_type": "stream",
     "text": [
      "['joao', 'maria', 'pedro', 'julia']\n"
     ]
    }
   ],
   "source": [
    "\"\"\"\n",
    "Aplicação comum: juntar lotes de dados extraídos de múltiplos \n",
    "arquivos antes de processar.\n",
    "    Uso: Em um pipeline, você pode combinar várias fontes \n",
    "    de dados.\n",
    "\"\"\"\n",
    "\n",
    "clientes = [\"joao\", \"maria\"]\n",
    "clientes_novos = [\"pedro\", \"julia\"]\n",
    "\n",
    "#juntar duas bases de dados com [.extend]\n",
    "clientes.extend(clientes_novos)\n",
    "print(clientes)"
   ]
  },
  {
   "cell_type": "code",
   "execution_count": 8,
   "id": "540f5e6e",
   "metadata": {},
   "outputs": [
    {
     "name": "stdout",
     "output_type": "stream",
     "text": [
      "['clientes_2025-01.csv', 'clientes_2025-02.csv']\n"
     ]
    }
   ],
   "source": [
    "arquivos = [\n",
    "    \"clientes_2025-01.csv\", \"vendas_2025-01.csv\",\n",
    "    \"clientes_2025-02.csv\", \"vendas_2025-02.csv\",\n",
    "    \"produtos_2025-01.csv\"\n",
    "]\n",
    "\n",
    "clientes = [arq for arq in arquivos if \"clientes\" in arq]\n",
    "print(clientes)"
   ]
  },
  {
   "cell_type": "code",
   "execution_count": null,
   "id": "c6955308",
   "metadata": {},
   "outputs": [
    {
     "name": "stdout",
     "output_type": "stream",
     "text": [
      "['200,GET,/api/v1', '200,POST,/api/v3']\n"
     ]
    }
   ],
   "source": [
    "\"\"\"\n",
    "Ex) ETL de logs:\n",
    "Dada uma lista de strings representando logs de acesso:\n",
    "[\"200,GET,/api/v1\", \"404,GET,/api/v2\", \"200,POST,/api/v3\"]\n",
    "→ Crie uma nova lista contendo apenas os endpoints com status 200.\n",
    "\"\"\"\n",
    "raw_data=[\"200,GET,/api/v1\", \"404,GET,/api/v2\", \"200,POST,/api/v3\"]\n",
    "\n",
    "#filtro por palavra\n",
    "data = [reg for reg in raw_data if \"200\" in reg]\n",
    "print(data)\n",
    "\n"
   ]
  },
  {
   "cell_type": "code",
   "execution_count": null,
   "id": "d5ca0ddb",
   "metadata": {},
   "outputs": [
    {
     "name": "stdout",
     "output_type": "stream",
     "text": [
      "Valores filtrados por 2025: \n",
      "['relatorio_2025-01.csv', 'dados_2025-01.csv']\n",
      "---------------\n",
      "Valores em ordem alfabética: \n",
      "['dados_2025-01.csv', 'relatorio_2025-01.csv']\n"
     ]
    }
   ],
   "source": [
    "\"\"\"\n",
    "Ex) Processamento de arquivos S3:\n",
    "Suponha uma lista de nomes de arquivos:\n",
    "[\"dados_2025-01.csv\", \"dados_2024-12.csv\", \"relatorio_2025-01.csv\"]\n",
    "→ Filtre apenas os arquivos de 2025 e ordene alfabeticamente.\n",
    "\"\"\"\n",
    "raw_data=[\"relatorio_2025-01.csv\", \"dados_2024-12.csv\", \"dados_2025-01.csv\"]\n",
    "\n",
    "#filtro por palavra\n",
    "A2025=[reg for reg in raw_data if \"2025\" in reg]\n",
    "print(f\"Valores filtrados por 2025: \\n{A2025}\")\n",
    "print(\"-\"*15)\n",
    "A2025.sort()\n",
    "print(f\"Valores em ordem alfabética: \\n{A2025}\")"
   ]
  }
 ],
 "metadata": {
  "kernelspec": {
   "display_name": ".v1",
   "language": "python",
   "name": "python3"
  },
  "language_info": {
   "codemirror_mode": {
    "name": "ipython",
    "version": 3
   },
   "file_extension": ".py",
   "mimetype": "text/x-python",
   "name": "python",
   "nbconvert_exporter": "python",
   "pygments_lexer": "ipython3",
   "version": "3.13.5"
  }
 },
 "nbformat": 4,
 "nbformat_minor": 5
}
