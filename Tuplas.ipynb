{
 "cells": [
  {
   "cell_type": "markdown",
   "id": "0f1b042c",
   "metadata": {},
   "source": [
    "Importancia para a engenharia de dados:\n",
    "Sua principal caracteristica é a imutabilidade. Uma vez que você cria uma tupla, não pode alterar, adicionar ou remover seus elementos.\n",
    "\n",
    "    1- Segurança dos Dados: Garante que dados importantes, como registros lidos de um banco de dados ou configurações, não sejam acidentalmente modificados no meio de um processo.\n",
    "\n",
    "    2- Performance: Tuplas são geralmente mais leves e rápidas de processar do que listas, pois o Python não precisa alocar recursos extras para possíveis modificações. \n",
    "\n",
    "    3- Uso como Chaves de Dicionário: Como são imutáveis (e, portanto, \"hasheáveis\"), tuplas podem ser usadas como chaves em dicionários. Isso é extremamente útil para criar chaves compostas. Listas não podem ser usadas para isso."
   ]
  },
  {
   "cell_type": "markdown",
   "id": "b396f5cc",
   "metadata": {},
   "source": [
    "---"
   ]
  },
  {
   "cell_type": "code",
   "execution_count": null,
   "id": "d3d0411c",
   "metadata": {},
   "outputs": [
    {
     "name": "stdout",
     "output_type": "stream",
     "text": [
      "{(101, 1): 3, (102, 2): 1, (103, 1): 1, (101, 2): 1}\n",
      "O cliente 101 comprou 3 produtos na loja 1.\n"
     ]
    }
   ],
   "source": [
    "#Exemplo: contar quantos produtos um cliente comprou em uma \n",
    "# determinada loja. A chave seria (id_cliente, id_loja).\n",
    "\n",
    "vendas = [\n",
    "    (101, 1, 900),\n",
    "    (102, 2, 901),\n",
    "    (101, 1, 902),\n",
    "    (103, 1, 900),\n",
    "    (101, 2, 903),\n",
    "    (101, 1, 904)\n",
    "]\n",
    "\n",
    "#Dicionario para armazenar a contagem de produtos por cleinte\n",
    "contagem_por_cliente_loja = {}\n",
    "\n",
    "for id_cliente, id_loja, id_produto in vendas:\n",
    "    chave = (id_cliente, id_loja) #Criando a chava composta\n",
    "\n",
    "    if chave in contagem_por_cliente_loja:\n",
    "        contagem_por_cliente_loja[chave] += 1\n",
    "    else:\n",
    "        contagem_por_cliente_loja[chave] = 1\n",
    "\n",
    "#A chave (101, 1) representa o cliente 101 na loja 1\n",
    "print(contagem_por_cliente_loja)\n",
    "\n",
    "#Para realizar consulta, basta usar a tupla como chave\n",
    "print(f\"O cliente 101 comprou {contagem_por_cliente_loja[(101, 1)]} produtos na loja 1.\")"
   ]
  },
  {
   "cell_type": "code",
   "execution_count": 4,
   "id": "8aa2092f",
   "metadata": {},
   "outputs": [
    {
     "name": "stdout",
     "output_type": "stream",
     "text": [
      "Engenheiros na equipe: ['Ana Silva', 'Carla Lima']\n"
     ]
    }
   ],
   "source": [
    "#Ex: Tupla sendo usada para representar um registro imutável\n",
    "# num banco de dados - consultando um banco de dados\n",
    "\n",
    "\n",
    "dados_funcionarios = [\n",
    "    (1, 'Ana Silva', 'Engenharia'),\n",
    "    (2, 'Bruno Costa', 'Marketing'),\n",
    "    (3, 'Carla Lima', 'Engenharia'),\n",
    "]\n",
    "\n",
    "#criando uma lista para os que tem cargo de \"engenheiro\"\n",
    "eng = []\n",
    "for registro in dados_funcionarios:\n",
    "    #Desempacotamento para melhorar a leitura\n",
    "    id, nome, dep = registro\n",
    "    if dep == \"Engenharia\":\n",
    "        eng.append(nome) #Adicionar o nome da pessoa a lista de engenheiros\n",
    "\n",
    "print(f\"Engenheiros na equipe: {eng}\") "
   ]
  },
  {
   "cell_type": "code",
   "execution_count": null,
   "id": "8f83bf2e",
   "metadata": {},
   "outputs": [
    {
     "name": "stdout",
     "output_type": "stream",
     "text": [
      "['sensor-A', 'sensor-D', 'sensor-E']\n"
     ]
    }
   ],
   "source": [
    "#Ex\n",
    "\n",
    "eventos_sensores = [\n",
    "    ('2025-10-14T20:00:00Z', 'sensor-A', 22.5),\n",
    "    ('2025-10-14T20:01:00Z', 'sensor-B', 55.0), # Inválido\n",
    "    ('2025-10-14T20:01:15Z', 'sensor-D', 23.1),\n",
    "    ('2025-10-14T20:02:00Z', 'sensor-C', -12.3), # Inválido\n",
    "    ('2025-10-14T20:03:00Z', 'sensor-E', 49.9),\n",
    "]\n",
    "\n",
    "def validar_temperatura(eventos):\n",
    "    validos=[]\n",
    "    invalidos=[]\n",
    "\n",
    "    for registro in eventos:\n",
    "        #desempacotando para melhorar a leitura\n",
    "        timestamp, id, temperatura = registro\n",
    "        if -10 <= temperatura <= 50:\n",
    "            validos.append(id)\n",
    "        else:\n",
    "            invalidos.append(id)\n",
    "    return validos, invalidos #Retornar os valores - serem usados fora da função\n",
    "\n",
    "validos, invalidos = validar_temperatura(eventos_sensores)\n",
    "print(validos)"
   ]
  },
  {
   "cell_type": "code",
   "execution_count": 1,
   "id": "be8ebbd5",
   "metadata": {},
   "outputs": [
    {
     "name": "stdout",
     "output_type": "stream",
     "text": [
      "processamento concluido!\n",
      "Total linhas: 150000\n",
      "Linhas com erro: 700\n",
      "Tempo processamento: 45.6\n"
     ]
    }
   ],
   "source": [
    "#Função que le um arquivo e precisa retornar um status.\n",
    "#   a Tupla devolve valores imutaveis\n",
    "\n",
    "def processar_logs(arquivo):\n",
    "    \n",
    "    #simular um processamento de arquivo log e retornar resumo\n",
    "    linhas_lidas = 150_000\n",
    "    linhas_erro = 700\n",
    "    tempo_execucao =  45.6\n",
    "    \n",
    "    #retornar os valores quando a função for chamada\n",
    "    return linhas_lidas, linhas_erro, tempo_execucao\n",
    "\n",
    "#unpacking para organizar os valores\n",
    "total, erros, tempo = processar_logs('arquivo')\n",
    "\n",
    "print(f\"processamento concluido!\")\n",
    "print(f\"Total linhas: {total}\")\n",
    "print(f\"Linhas com erro: {erros}\")\n",
    "print(f\"Tempo processamento: {tempo}\")"
   ]
  },
  {
   "cell_type": "code",
   "execution_count": 2,
   "id": "1c37dd94",
   "metadata": {},
   "outputs": [
    {
     "name": "stdout",
     "output_type": "stream",
     "text": [
      "Contagem de acessos [user, ip]:\n",
      "{(10, '192.168.1.1'): 2, (20, '10.0.0.5'): 2, (15, '192.168.1.1'): 1, (10, '200.201.202.1'): 1}\n"
     ]
    }
   ],
   "source": [
    "#Ex) Agregação de dados com chave composta\n",
    "#   Você tem uma lista de registros de logs de acesso a um sistema. \n",
    "#   Cada registro é uma tupla (user_id, ip_address, action). \n",
    "#   Crie um dicionário que mapeia cada par (user_id, ip_address) \n",
    "#   para uma lista de todas as ações (action) que esse usuário \n",
    "#   realizou a partir daquele IP.\n",
    "\n",
    "logs = [\n",
    "    (10, '192.168.1.1', 'login'),\n",
    "    (20, '10.0.0.5', 'view_page'),\n",
    "    (10, '192.168.1.1', 'logout'),\n",
    "    (15, '192.168.1.1', 'login'),\n",
    "    (10, '200.201.202.1', 'login'), # Mesmo usuário, IP diferente\n",
    "    (20, '10.0.0.5', 'submit_form'),\n",
    "]\n",
    "\n",
    "logs_agregados = {} #Dicionário vazio\n",
    "for user_id, ip_address, action in logs:\n",
    "    chave = (user_id, ip_address)\n",
    "\n",
    "    #Contagem\n",
    "    if chave in logs_agregados:\n",
    "        logs_agregados[chave] += 1\n",
    "    else:\n",
    "        logs_agregados[chave] = 1\n",
    "\n",
    "print(\"Contagem de acessos [user, ip]:\")\n",
    "print(logs_agregados)\n",
    "\n"
   ]
  },
  {
   "cell_type": "code",
   "execution_count": null,
   "id": "cea2a991",
   "metadata": {},
   "outputs": [
    {
     "name": "stdout",
     "output_type": "stream",
     "text": [
      "Falhas: ['TX1002', 'TX1004']\n",
      "Aprovadas: ['TX1001', 'TX1003', 'TX1005']\n"
     ]
    }
   ],
   "source": [
    "#Ex) Sua tarefa é criar uma função que separa esses registros em\n",
    "#  duas listas: uma para transações 'APROVADAS' e outra para as\n",
    "#  demais.\n",
    "\n",
    "transacoes = [\n",
    "    ('TX1001', 55, 199.90, 'APROVADA'),\n",
    "    ('TX1002', 73, 29.50, 'FALHA'),\n",
    "    ('TX1003', 55, 75.00, 'APROVADA'),\n",
    "    ('TX1004', 91, 500.10, 'EM_ANALISE'),\n",
    "    ('TX1005', 73, 12.00, 'APROVADA'),\n",
    "]\n",
    "\n",
    "def transacao(list_transacoes):\n",
    "    APROVADA = []\n",
    "    FALHA = []\n",
    "\n",
    "    for registro in list_transacoes:\n",
    "        # Correção: desempacotamento correto\n",
    "        transacao_id, id_user, valor, status = registro\n",
    "        if status == 'APROVADA':\n",
    "            APROVADA.append(transacao_id)\n",
    "        else:\n",
    "            FALHA.append(transacao_id)\n",
    "    \n",
    "    return FALHA, APROVADA\n",
    "\n",
    "# Correção: passar a variável correta 'transacoes'\n",
    "FALHA, APROVADA = transacao(transacoes)\n",
    "print(f'Falhas: {FALHA}')\n",
    "print(f'Aprovadas: {APROVADA}')"
   ]
  },
  {
   "cell_type": "code",
   "execution_count": 6,
   "id": "841a2f1c",
   "metadata": {},
   "outputs": [
    {
     "name": "stdout",
     "output_type": "stream",
     "text": [
      "[(1, 'LOGIN'), (2, 'ERROR'), (3, 'PURCHASE'), (4, 'LOGOUT'), (5, 'ERROR')]\n",
      "Quant de erros: [2]\n"
     ]
    }
   ],
   "source": [
    "\"\"\"\n",
    "Ex) Você está analisando logs de eventos de um sistema. \n",
    " Cada log é uma tupla com um formato variável: \n",
    " (event_id, timestamp, event_type, ...outros_detalhes).\n",
    "\n",
    "  Parte A: Crie um loop que processe uma lista desses logs. \n",
    "       Para cada log, extraia (pluck) apenas o event_id e o \n",
    "       event_type, ignorando todo o resto. Imprima o ID e o tipo de \n",
    "       cada evento.\n",
    "\n",
    "   Parte B: Depois do loop, use o método .count() em uma lista de\n",
    "       tipos de evento para descobrir quantas vezes o evento\n",
    "       'ERROR' ocorreu.\n",
    "\"\"\"\n",
    "eventos = [\n",
    "    (1, '2025-10-16T09:00:00', 'LOGIN', {'user': 'ana'}),\n",
    "    (2, '2025-10-16T09:01:30', 'ERROR', {'code': 500, 'service': 'auth'}),\n",
    "    (3, '2025-10-16T09:02:15', 'PURCHASE', {'user': 'bia', 'item': 123}),\n",
    "    (4, '2025-10-16T09:03:00', 'LOGOUT', {'user': 'ana'}),\n",
    "    (5, '2025-10-16T09:04:00', 'ERROR', {'code': 404, 'service': 'inventory'}),\n",
    "]\n",
    "\n",
    "def e1_eventos(e2_eventos):\n",
    "    parteA=[]\n",
    "    \n",
    "    for registro in e2_eventos:\n",
    "\n",
    "        #desempacotamento\n",
    "        id, x, type, y = registro\n",
    "        B = (id, type)\n",
    "\n",
    "        #criar uma tupla com Id + Type porque o \n",
    "        #   [.append()] so aceita 1 parametro\n",
    "        parteA.append(B)\n",
    "    return parteA\n",
    "\n",
    "def N_erros(e3_eventos):\n",
    "    parteB=[]\n",
    "    N=0\n",
    "\n",
    "    for reg in e3_eventos:\n",
    "        #desempacotamento\n",
    "        id, x, type, y = reg\n",
    "        if type == \"ERROR\":\n",
    "            N += 1\n",
    "    \n",
    "    parteB.append(N)\n",
    "    return parteB\n",
    "            \n",
    "parteB = N_erros(eventos)\n",
    "parteA = e1_eventos(eventos)\n",
    "print(parteA)\n",
    "print(f'Quant de erros: {parteB}')"
   ]
  }
 ],
 "metadata": {
  "kernelspec": {
   "display_name": ".v1",
   "language": "python",
   "name": "python3"
  },
  "language_info": {
   "codemirror_mode": {
    "name": "ipython",
    "version": 3
   },
   "file_extension": ".py",
   "mimetype": "text/x-python",
   "name": "python",
   "nbconvert_exporter": "python",
   "pygments_lexer": "ipython3",
   "version": "3.13.5"
  }
 },
 "nbformat": 4,
 "nbformat_minor": 5
}
